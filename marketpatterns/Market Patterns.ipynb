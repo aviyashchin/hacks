{
 "cells": [
  {
   "cell_type": "code",
   "execution_count": 31,
   "metadata": {
    "collapsed": false
   },
   "outputs": [],
   "source": [
    "import numpy\n",
    "import pandas\n",
    "from random import shuffle"
   ]
  },
  {
   "cell_type": "code",
   "execution_count": 14,
   "metadata": {
    "collapsed": false
   },
   "outputs": [],
   "source": [
    "import nupic\n",
    "from nupic.encoders import ScalarEncoder"
   ]
  },
  {
   "cell_type": "code",
   "execution_count": 12,
   "metadata": {
    "collapsed": false
   },
   "outputs": [
    {
     "name": "stdout",
     "output_type": "stream",
     "text": [
      "3 = [1 1 1 0 0 0 0 0 0 0 0 0 0 0 0 0 0 0 0 0 0 0]\n",
      "4 = [1 1 1 0 0 0 0 0 0 0 0 0 0 0 0 0 0 0 0 0 0 0]\n",
      "5 = [0 1 1 1 0 0 0 0 0 0 0 0 0 0 0 0 0 0 0 0 0 0]\n"
     ]
    }
   ],
   "source": [
    "# 22 bits with 3 active representing values 0 to 100\n",
    "# clipInput=True makes values >100 encode the same as 100 (instead of throwing a ValueError)\n",
    "# forced=True allows small values for `n` and `w`\n",
    "enc = ScalarEncoder(n=22, w=3, minval=2.5, maxval=97.5, clipInput=True, forced=True)\n",
    "print \"3 =\", enc.encode(3)\n",
    "print \"4 =\", enc.encode(4)\n",
    "print \"5 =\", enc.encode(5)"
   ]
  },
  {
   "cell_type": "code",
   "execution_count": 267,
   "metadata": {
    "collapsed": false
   },
   "outputs": [
    {
     "name": "stdout",
     "output_type": "stream",
     "text": [
      "100  = [0 0 0 0 0 0 0 0 0 0 0 0 0 0 0 0 0 0 0 1 1 1]\n",
      "1000 = [0 0 0 0 0 0 0 0 0 0 0 0 0 0 0 0 0 0 0 1 1 1]\n"
     ]
    }
   ],
   "source": [
    "# Encode maxval\n",
    "print \"100  =\", enc.encode(100)\n",
    "# See that any larger number gets the same encoding\n",
    "print \"1000 =\", enc.encode(1000)"
   ]
  },
  {
   "cell_type": "code",
   "execution_count": 268,
   "metadata": {
    "collapsed": true
   },
   "outputs": [],
   "source": [
    "from nupic.encoders.random_distributed_scalar import RandomDistributedScalarEncoder\n",
    "\n",
    "RandomDistributedScalarEncoder?"
   ]
  },
  {
   "cell_type": "code",
   "execution_count": 269,
   "metadata": {
    "collapsed": false
   },
   "outputs": [
    {
     "name": "stdout",
     "output_type": "stream",
     "text": [
      "3 =    [0 1 0 0 0 0 0 0 0 0 0 0 1 0 0 0 0 1 0 0 0]\n",
      "4 =    [0 1 0 0 0 0 0 0 0 0 0 0 1 0 0 0 0 1 0 0 0]\n",
      "5 =    [0 1 0 0 0 0 1 0 0 0 0 0 0 0 0 0 0 1 0 0 0]\n",
      "\n",
      "100 =  [0 0 0 1 0 0 0 0 0 1 0 0 0 0 0 0 0 0 0 0 1]\n",
      "1000 = [0 0 0 0 0 0 0 0 0 0 0 0 0 0 1 0 1 0 0 1 0]\n"
     ]
    }
   ],
   "source": [
    "# 21 bits with 3 active with buckets of size 5\n",
    "rdse = RandomDistributedScalarEncoder(n=21, w=3, resolution=5, offset=2.5)\n",
    "\n",
    "print \"3 =   \", rdse.encode(3)\n",
    "print \"4 =   \", rdse.encode(4)\n",
    "print \"5 =   \", rdse.encode(5)\n",
    "print\n",
    "print \"100 = \", rdse.encode(100)\n",
    "print \"1000 =\", rdse.encode(1000)"
   ]
  },
  {
   "cell_type": "code",
   "execution_count": 17,
   "metadata": {
    "collapsed": true
   },
   "outputs": [],
   "source": [
    "import datetime\n",
    "from nupic.encoders.date import DateEncoder\n",
    "\n",
    "DateEncoder?"
   ]
  },
  {
   "cell_type": "code",
   "execution_count": 29,
   "metadata": {
    "collapsed": false
   },
   "outputs": [
    {
     "name": "stdout",
     "output_type": "stream",
     "text": [
      "[0 0 0 1 0 0 1 0 0 1 0 0 0 0 1]\n",
      "[1 0 1 0 1 1 1 1 1 1 0 1 1 0 1]\n",
      "[1 1 1 0 0 0 1 1 0 1 1 0 0 1 0]\n",
      "[1 0 0 0 0 1 0 0 0 1 1 1 1 1 0]\n"
     ]
    }
   ],
   "source": [
    "import numpy\n",
    "from nupic.research.spatial_pooler import SpatialPooler\n",
    "sp = SpatialPooler(inputDimensions=(15,),\n",
    "                   columnDimensions=(4,),\n",
    "                   potentialRadius=15,\n",
    "                   numActiveColumnsPerInhArea=1,\n",
    "                   globalInhibition=True,\n",
    "                   synPermActiveInc=0.03,\n",
    "                   potentialPct=1.0)\n",
    "for column in xrange(4):\n",
    "    connected = numpy.zeros((15,), dtype=\"int\")\n",
    "    sp.getConnectedSynapses(column, connected)\n",
    "    print connected"
   ]
  },
  {
   "cell_type": "markdown",
   "metadata": {
    "collapsed": true
   },
   "source": [
    "# Extract Data for Training Examples"
   ]
  },
  {
   "cell_type": "code",
   "execution_count": null,
   "metadata": {
    "collapsed": true
   },
   "outputs": [],
   "source": []
  },
  {
   "cell_type": "markdown",
   "metadata": {},
   "source": [
    "# Encode Date"
   ]
  },
  {
   "cell_type": "markdown",
   "metadata": {},
   "source": [
    "<code>\n",
    "Day of Week (14 bits)\n",
    "[1 1 1 0 0 0 0 0 0 0 0 0 0 0] Sun\n",
    "[0 0 1 1 1 0 0 0 0 0 0 0 0 0] Mon\n",
    "[0 0 0 0 1 1 1 0 0 0 0 0 0 0] Tue\n",
    "[0 0 0 0 0 0 1 1 1 0 0 0 0 0] Wed\n",
    "[0 0 0 0 0 0 0 0 1 1 1 0 0 0] Thu\n",
    "[0 0 0 0 0 0 0 0 0 0 1 1 1 0] Fri\n",
    "[1 0 0 0 0 0 0 0 0 0 0 0 1 1] Sat\n",
    "Day of Month (63 bits)\n",
    "[111000000000000000000000000000000000000000000000000000000000000] 1\n",
    "[001110000000000000000000000000000000000000000000000000000000000] 2\n",
    "[000011100000000000000000000000000000000000000000000000000000000] 3\n",
    "...\n",
    "[000000000000000000000000000000000000000000000000000000000011100] 30\n",
    "[000000000000000000000000000000000000000000000000000000000000111] 31\n",
    "First/Last Day of Month (3 bits)\n",
    "[1 0 0] First\n",
    "[0 1 0] Neither\n",
    "[0 0 1] Last\n",
    "Week of Month (12 bits)\n",
    "[1 1 1 0 0 0 0 0 0 0 0 0] Wk 1\n",
    "[0 0 1 1 1 0 0 0 0 0 0 0] Wk 2\n",
    "[0 0 0 0 1 1 1 0 0 0 0 0] Wk 3\n",
    "[0 0 0 0 0 0 1 1 1 0 0 0] Wk 4\n",
    "[0 0 0 0 0 0 0 0 1 1 1 0] Wk 5\n",
    "[1 0 0 0 0 0 0 0 0 0 1 1] Wk 6\n",
    "Month of Year (24 bits)\n",
    "[1 1 1 0 0 0 0 0 0 0 0 0 0 0 0 0 0 0 0 0 0 0 0 0] Jan\n",
    "[0 0 1 1 1 0 0 0 0 0 0 0 0 0 0 0 0 0 0 0 0 0 0 0] Feb\n",
    "[0 0 0 0 1 1 1 0 0 0 0 0 0 0 0 0 0 0 0 0 0 0 0 0] Mar\n",
    "[0 0 0 0 0 0 1 1 1 0 0 0 0 0 0 0 0 0 0 0 0 0 0 0] Apr\n",
    "[0 0 0 0 0 0 0 0 1 1 1 0 0 0 0 0 0 0 0 0 0 0 0 0] May\n",
    "[0 0 0 0 0 0 0 0 0 0 1 1 1 0 0 0 0 0 0 0 0 0 0 0] Jun\n",
    "[0 0 0 0 0 0 0 0 0 0 0 0 1 1 1 0 0 0 0 0 0 0 0 0] Jul\n",
    "[0 0 0 0 0 0 0 0 0 0 0 0 0 0 1 1 1 0 0 0 0 0 0 0] Aug\n",
    "[0 0 0 0 0 0 0 0 0 0 0 0 0 0 0 0 1 1 1 0 0 0 0 0] Sep\n",
    "[0 0 0 0 0 0 0 0 0 0 0 0 0 0 0 0 0 0 1 1 1 0 0 0] Oct\n",
    "[0 0 0 0 0 0 0 0 0 0 0 0 0 0 0 0 0 0 0 0 1 1 1 0] Nov\n",
    "[1 0 0 0 0 0 0 0 0 0 0 0 0 0 0 0 0 0 0 0 0 0 1 1] Dec\n",
    "Quarter of Year (8 bits)\n",
    "[1 1 1 0 0 0 0 0] Q1\n",
    "[0 0 1 1 1 0 0 0] Q2\n",
    "[0 0 0 0 1 1 1 0] Q3\n",
    "[1 0 0 0 0 0 1 1] Q4\n",
    "Half of Year\n",
    "[1 0] H1 (2 bits)\n",
    "[0 1] H2\n",
    "Year of Decade (20 bits)\n",
    "[1 1 1 0 0 0 0 0 0 0 0 0 0 0 0 0 0 0 0 0] 0\n",
    "[0 0 1 1 1 0 0 0 0 0 0 0 0 0 0 0 0 0 0 0] 1\n",
    "[0 0 0 0 1 1 1 0 0 0 0 0 0 0 0 0 0 0 0 0] 2\n",
    "[0 0 0 0 0 0 1 1 1 0 0 0 0 0 0 0 0 0 0 0] 3\n",
    "[0 0 0 0 0 0 0 0 1 1 1 0 0 0 0 0 0 0 0 0] 4\n",
    "[0 0 0 0 0 0 0 0 0 0 1 1 1 0 0 0 0 0 0 0] 5\n",
    "[0 0 0 0 0 0 0 0 0 0 0 0 1 1 1 0 0 0 0 0] 6\n",
    "[0 0 0 0 0 0 0 0 0 0 0 0 0 0 1 1 1 0 0 0] 7\n",
    "[0 0 0 0 0 0 0 0 0 0 0 0 0 0 0 0 1 1 1 0] 8\n",
    "[1 0 0 0 0 0 0 0 0 0 0 0 0 0 0 0 0 0 1 1] 9\n",
    "</code>"
   ]
  },
  {
   "cell_type": "code",
   "execution_count": 15,
   "metadata": {
    "collapsed": false
   },
   "outputs": [
    {
     "name": "stdout",
     "output_type": "stream",
     "text": [
      "[1 1 0 0 0 0 0 0 0 0 0 0 0 1]\n",
      "[0 1 1 1 0 0 0 0 0 0 0 0 0 0]\n",
      "[0 0 0 1 1 1 0 0 0 0 0 0 0 0]\n",
      "[0 0 0 0 0 1 1 1 0 0 0 0 0 0]\n",
      "[0 0 0 0 0 0 0 1 1 1 0 0 0 0]\n",
      "[0 0 0 0 0 0 0 0 0 1 1 1 0 0]\n",
      "[0 0 0 0 0 0 0 0 0 0 0 1 1 1]\n"
     ]
    }
   ],
   "source": [
    "import nupic\n",
    "from nupic.encoders import ScalarEncoder\n",
    "day_of_week_enc = ScalarEncoder(w=3, minval=0, maxval=7, radius=1.5, periodic=True, name=\"dayOfWeek\", forced=True)\n",
    "for d in range(0, 7):\n",
    "    print str(day_of_week_enc.encode(d))"
   ]
  },
  {
   "cell_type": "code",
   "execution_count": 16,
   "metadata": {
    "collapsed": false
   },
   "outputs": [
    {
     "name": "stdout",
     "output_type": "stream",
     "text": [
      "[111000000000000000000000000000000000000000000000000000000000000]\n",
      "[001110000000000000000000000000000000000000000000000000000000000]\n",
      "[000011100000000000000000000000000000000000000000000000000000000]\n",
      "[000000111000000000000000000000000000000000000000000000000000000]\n",
      "[000000001110000000000000000000000000000000000000000000000000000]\n",
      "[000000000011100000000000000000000000000000000000000000000000000]\n",
      "[000000000000111000000000000000000000000000000000000000000000000]\n",
      "[000000000000001110000000000000000000000000000000000000000000000]\n",
      "[000000000000000011100000000000000000000000000000000000000000000]\n",
      "[000000000000000000111000000000000000000000000000000000000000000]\n",
      "[000000000000000000001110000000000000000000000000000000000000000]\n",
      "[000000000000000000000011100000000000000000000000000000000000000]\n",
      "[000000000000000000000000111000000000000000000000000000000000000]\n",
      "[000000000000000000000000001110000000000000000000000000000000000]\n",
      "[000000000000000000000000000011100000000000000000000000000000000]\n",
      "[000000000000000000000000000000111000000000000000000000000000000]\n",
      "[000000000000000000000000000000001110000000000000000000000000000]\n",
      "[000000000000000000000000000000000011100000000000000000000000000]\n",
      "[000000000000000000000000000000000000111000000000000000000000000]\n",
      "[000000000000000000000000000000000000001110000000000000000000000]\n",
      "[000000000000000000000000000000000000000011100000000000000000000]\n",
      "[000000000000000000000000000000000000000000111000000000000000000]\n",
      "[000000000000000000000000000000000000000000001110000000000000000]\n",
      "[000000000000000000000000000000000000000000000011100000000000000]\n",
      "[000000000000000000000000000000000000000000000000111000000000000]\n",
      "[000000000000000000000000000000000000000000000000001110000000000]\n",
      "[000000000000000000000000000000000000000000000000000011100000000]\n",
      "[000000000000000000000000000000000000000000000000000000111000000]\n",
      "[000000000000000000000000000000000000000000000000000000001110000]\n",
      "[000000000000000000000000000000000000000000000000000000000011100]\n",
      "[000000000000000000000000000000000000000000000000000000000000111]\n"
     ]
    }
   ],
   "source": [
    "day_of_month_enc = ScalarEncoder(w=3, minval=1, maxval=31, radius=1.5, periodic=False, name=\"dayOfMonth\", forced=True)\n",
    "for d in range(1, 32):\n",
    "    print str(day_of_month_enc.encode(d)).replace(\"\\n\",\"\").replace(\" \",\"\")"
   ]
  },
  {
   "cell_type": "code",
   "execution_count": 17,
   "metadata": {
    "collapsed": false
   },
   "outputs": [
    {
     "name": "stdout",
     "output_type": "stream",
     "text": [
      "63\n"
     ]
    }
   ],
   "source": [
    "print len('111000000000000000000000000000000000000000000000000000000000000')"
   ]
  },
  {
   "cell_type": "code",
   "execution_count": 18,
   "metadata": {
    "collapsed": false
   },
   "outputs": [
    {
     "name": "stdout",
     "output_type": "stream",
     "text": [
      "[1 0 0]\n",
      "[0 1 0]\n",
      "[0 0 1]\n"
     ]
    }
   ],
   "source": [
    "first_last_of_month_enc = ScalarEncoder(w=1, minval=0, maxval=2, radius=1, periodic=False, name=\"firstLastOfMonth\", forced=True)\n",
    "for d in range(0, 3):\n",
    "    print str(first_last_of_month_enc.encode(d))"
   ]
  },
  {
   "cell_type": "code",
   "execution_count": 19,
   "metadata": {
    "collapsed": false
   },
   "outputs": [
    {
     "name": "stdout",
     "output_type": "stream",
     "text": [
      "[1 1 0 0 0 0 0 0 0 0 0 1]\n",
      "[0 1 1 1 0 0 0 0 0 0 0 0]\n",
      "[0 0 0 1 1 1 0 0 0 0 0 0]\n",
      "[0 0 0 0 0 1 1 1 0 0 0 0]\n",
      "[0 0 0 0 0 0 0 1 1 1 0 0]\n",
      "[0 0 0 0 0 0 0 0 0 1 1 1]\n"
     ]
    }
   ],
   "source": [
    "week_of_month_enc = ScalarEncoder(w=3, minval=0, maxval=6, radius=1.5, periodic=True, name=\"weekOfMonth\", forced=True)\n",
    "for d in range(0, 6):\n",
    "    print str(week_of_month_enc.encode(d))"
   ]
  },
  {
   "cell_type": "code",
   "execution_count": 20,
   "metadata": {
    "collapsed": false
   },
   "outputs": [
    {
     "name": "stdout",
     "output_type": "stream",
     "text": [
      "[1 1 0 0 0 0 0 0 0 0 0 0 0 0 0 0 0 0 0 0 0 0 0 1]\n",
      "[0 1 1 1 0 0 0 0 0 0 0 0 0 0 0 0 0 0 0 0 0 0 0 0]\n",
      "[0 0 0 1 1 1 0 0 0 0 0 0 0 0 0 0 0 0 0 0 0 0 0 0]\n",
      "[0 0 0 0 0 1 1 1 0 0 0 0 0 0 0 0 0 0 0 0 0 0 0 0]\n",
      "[0 0 0 0 0 0 0 1 1 1 0 0 0 0 0 0 0 0 0 0 0 0 0 0]\n",
      "[0 0 0 0 0 0 0 0 0 1 1 1 0 0 0 0 0 0 0 0 0 0 0 0]\n",
      "[0 0 0 0 0 0 0 0 0 0 0 1 1 1 0 0 0 0 0 0 0 0 0 0]\n",
      "[0 0 0 0 0 0 0 0 0 0 0 0 0 1 1 1 0 0 0 0 0 0 0 0]\n",
      "[0 0 0 0 0 0 0 0 0 0 0 0 0 0 0 1 1 1 0 0 0 0 0 0]\n",
      "[0 0 0 0 0 0 0 0 0 0 0 0 0 0 0 0 0 1 1 1 0 0 0 0]\n",
      "[0 0 0 0 0 0 0 0 0 0 0 0 0 0 0 0 0 0 0 1 1 1 0 0]\n",
      "[0 0 0 0 0 0 0 0 0 0 0 0 0 0 0 0 0 0 0 0 0 1 1 1]\n"
     ]
    }
   ],
   "source": [
    "month_of_year_enc = ScalarEncoder(w=3, minval=1, maxval=13, radius=1.5, periodic=True, name=\"monthOfYear\", forced=True)\n",
    "for d in range(1, 13):\n",
    "    print str(month_of_year_enc.encode(d))"
   ]
  },
  {
   "cell_type": "code",
   "execution_count": 21,
   "metadata": {
    "collapsed": false
   },
   "outputs": [
    {
     "name": "stdout",
     "output_type": "stream",
     "text": [
      "[1 1 0 0 0 0 0 1]\n",
      "[0 1 1 1 0 0 0 0]\n",
      "[0 0 0 1 1 1 0 0]\n",
      "[0 0 0 0 0 1 1 1]\n"
     ]
    }
   ],
   "source": [
    "quarter_of_year_enc = ScalarEncoder(w=3, minval=0, maxval=4, radius=1.5, periodic=True, name=\"quarterOfYear\", forced=True)\n",
    "for d in range(0, 4):\n",
    "    print str(quarter_of_year_enc.encode(d))"
   ]
  },
  {
   "cell_type": "code",
   "execution_count": 22,
   "metadata": {
    "collapsed": false
   },
   "outputs": [
    {
     "name": "stdout",
     "output_type": "stream",
     "text": [
      "[1 0]\n",
      "[0 1]\n"
     ]
    }
   ],
   "source": [
    "half_of_year_enc = ScalarEncoder(w=1, minval=0, maxval=2, radius=1, periodic=True, name=\"halfOfYear\", forced=True)\n",
    "for d in range(0, 2):\n",
    "    print str(half_of_year_enc.encode(d))"
   ]
  },
  {
   "cell_type": "code",
   "execution_count": 23,
   "metadata": {
    "collapsed": false
   },
   "outputs": [
    {
     "name": "stdout",
     "output_type": "stream",
     "text": [
      "[1 1 0 0 0 0 0 0 0 0 0 0 0 0 0 0 0 0 0 1]\n",
      "[0 1 1 1 0 0 0 0 0 0 0 0 0 0 0 0 0 0 0 0]\n",
      "[0 0 0 1 1 1 0 0 0 0 0 0 0 0 0 0 0 0 0 0]\n",
      "[0 0 0 0 0 1 1 1 0 0 0 0 0 0 0 0 0 0 0 0]\n",
      "[0 0 0 0 0 0 0 1 1 1 0 0 0 0 0 0 0 0 0 0]\n",
      "[0 0 0 0 0 0 0 0 0 1 1 1 0 0 0 0 0 0 0 0]\n",
      "[0 0 0 0 0 0 0 0 0 0 0 1 1 1 0 0 0 0 0 0]\n",
      "[0 0 0 0 0 0 0 0 0 0 0 0 0 1 1 1 0 0 0 0]\n",
      "[0 0 0 0 0 0 0 0 0 0 0 0 0 0 0 1 1 1 0 0]\n",
      "[0 0 0 0 0 0 0 0 0 0 0 0 0 0 0 0 0 1 1 1]\n"
     ]
    }
   ],
   "source": [
    "year_of_decade_enc = ScalarEncoder(w=3, minval=0, maxval=10, radius=1.5, periodic=True, name=\"yearOfDecade\", forced=True)\n",
    "for d in range(0, 10):\n",
    "    print str(year_of_decade_enc.encode(d))"
   ]
  },
  {
   "cell_type": "code",
   "execution_count": 24,
   "metadata": {
    "collapsed": true
   },
   "outputs": [],
   "source": [
    "import calendar\n",
    "class Month(object):\n",
    "    def __init__(self, date):\n",
    "        monthrange = calendar.monthrange(date.year, date.month)\n",
    "        self.first_day_of_week = monthrange[0]\n",
    "        self.last_day = monthrange[1]\n",
    "        self.quarter = (date.month - 1) // 3\n",
    "        self.half = (date.month - 1) // 6\n"
   ]
  },
  {
   "cell_type": "code",
   "execution_count": 25,
   "metadata": {
    "collapsed": false
   },
   "outputs": [],
   "source": [
    "def get_week_of_month(date):\n",
    "    month = Month(date)\n",
    "    week_of_month = (date.day - 1 + month.first_day_of_week) // 7\n",
    "    first_full_week_offset = 1 if month.first_day_of_week == 0 else 0  # month starts on Monday\n",
    "    return week_of_month + first_full_week_offset\n",
    "\n",
    "# for m in range(1,13):\n",
    "#     for d in range(1, calendar.monthrange(2015, m)[1] + 1):\n",
    "#         date = datetime.date(2015, m, d)\n",
    "#         print date, get_week_of_month(date)"
   ]
  },
  {
   "cell_type": "code",
   "execution_count": 26,
   "metadata": {
    "collapsed": false
   },
   "outputs": [
    {
     "data": {
      "text/plain": [
       "[(1, 31),\n",
       " (4, 29),\n",
       " (5, 31),\n",
       " (1, 30),\n",
       " (3, 31),\n",
       " (6, 30),\n",
       " (1, 31),\n",
       " (4, 31),\n",
       " (0, 30),\n",
       " (2, 31),\n",
       " (5, 30),\n",
       " (0, 31)]"
      ]
     },
     "execution_count": 26,
     "metadata": {},
     "output_type": "execute_result"
    }
   ],
   "source": [
    "import calendar\n",
    "[calendar.monthrange(year,month) for year in [2008] for month in range(1,13)]"
   ]
  },
  {
   "cell_type": "code",
   "execution_count": 27,
   "metadata": {
    "collapsed": false
   },
   "outputs": [
    {
     "name": "stdout",
     "output_type": "stream",
     "text": [
      "dayOfWeek 2 [0 0 0 1 1 1 0 0 0 0 0 0 0 0]\n",
      "dayOfMonth 1 [111000000000000000000000000000000000000000000000000000000000000]\n",
      "firstLastOfMonth 0 [1 0 0]\n",
      "weekOfMonth 0 [1 1 0 0 0 0 0 0 0 0 0 1]\n",
      "yearOfDecade 5 [0 0 0 0 0 0 0 0 0 1 1 1 0 0 0 0 0 0 0 0]\n",
      "monthOfYear 7 [0 0 0 0 0 0 0 0 0 0 0 1 1 1 0 0 0 0 0 0 0 0 0 0]\n",
      "quarterOfYear 2 [0 0 0 1 1 1 0 0]\n",
      "halfOfYear 1 [0 1]\n"
     ]
    }
   ],
   "source": [
    "import datetime\n",
    "d = datetime.date(2015, 7, 1)\n",
    "# d = datetime.date.today()\n",
    "print 'dayOfWeek', d.weekday(), day_of_week_enc.encode(d.weekday())  # 0 = Monday, 6 = Sunday\n",
    "print 'dayOfMonth', d.day, str(day_of_month_enc.encode(d.day)).replace(\"\\n\",\"\").replace(\" \",\"\")\n",
    "first_last = 0 if d.day == 1 else 2 if d.day == Month(d).last_day else 1\n",
    "print 'firstLastOfMonth', first_last, first_last_of_month_enc.encode(first_last)\n",
    "print 'weekOfMonth', get_week_of_month(d), week_of_month_enc.encode(get_week_of_month(d))\n",
    "print 'yearOfDecade', d.year % 10, year_of_decade_enc.encode(d.year % 10)\n",
    "print 'monthOfYear', d.month, month_of_year_enc.encode(d.month)\n",
    "print 'quarterOfYear', Month(d).quarter, quarter_of_year_enc.encode(Month(d).quarter)\n",
    "print 'halfOfYear', Month(d).half, half_of_year_enc.encode(Month(d).half)\n",
    "# Quarter of Year (8 bits)\n",
    "# [1 1 1 0 0 0 0 0] Q1\n",
    "# [0 0 1 1 1 0 0 0] Q2\n",
    "# [0 0 0 0 1 1 1 0] Q3\n",
    "# [1 0 0 0 0 0 1 1] Q4\n",
    "# Half of Year\n",
    "# [1 0] H1 (2 bits)\n",
    "# [0 1] H2\n",
    "class DateRecord(object):\n",
    "    def __init__(self, date):\n",
    "        month = Month(date)\n",
    "        self.dayOfWeek = date.weekday()\n",
    "        self.dayOfMonth = date.day\n",
    "        self.firstLastOfMonth = 0 if date.day == 1 else 2 if date.day == month.last_day else 1\n",
    "        self.weekOfMonth = get_week_of_month(date)\n",
    "        self.yearOfDecade = date.year % 10\n",
    "        self.monthOfYear = date.month\n",
    "        self.quarterOfYear = month.quarter\n",
    "        self.halfOfYear = month.half"
   ]
  },
  {
   "cell_type": "code",
   "execution_count": 32,
   "metadata": {
    "collapsed": false
   },
   "outputs": [
    {
     "name": "stdout",
     "output_type": "stream",
     "text": [
      "1998-01-01 1998-01-02 2012-12-30 2012-12-31\n",
      "2002-01-21 2003-07-16 2012-03-02 2004-12-07\n",
      "1998-12-28 2006-12-04 2009-08-11 2008-05-04\n"
     ]
    }
   ],
   "source": [
    "# Generate all days from 1998-2012\n",
    "# Repeat:\n",
    "#   Shuffle the list randomly\n",
    "#   Present each day to SP\n",
    "#   Record output of SP in map from day to SDR\n",
    "#   Keep track of whether the SDR changed from the previous presentation\n",
    "#   Graph number of changes vs number of presentations\n",
    "days = [datetime.date(y, m, d) for y in range(1998, 2013) for m in range(1, 13) for d in range(1, calendar.monthrange(y, m)[1] + 1)]\n",
    "print days[0], days[1], days[-2], days[-1]\n",
    "\n",
    "from nupic.encoders import MultiEncoder\n",
    "date_enc = MultiEncoder()\n",
    "date_enc.addEncoder(day_of_week_enc.name, day_of_week_enc)\n",
    "date_enc.addEncoder(day_of_month_enc.name, day_of_month_enc)\n",
    "date_enc.addEncoder(first_last_of_month_enc.name, first_last_of_month_enc)\n",
    "date_enc.addEncoder(week_of_month_enc.name, week_of_month_enc)\n",
    "date_enc.addEncoder(year_of_decade_enc.name, year_of_decade_enc)\n",
    "date_enc.addEncoder(month_of_year_enc.name, month_of_year_enc)\n",
    "date_enc.addEncoder(quarter_of_year_enc.name, quarter_of_year_enc)\n",
    "date_enc.addEncoder(half_of_year_enc.name, half_of_year_enc)\n",
    "\n",
    "sp = SpatialPooler(inputDimensions=(date_enc.width,),\n",
    "                   columnDimensions=(400,),\n",
    "                   potentialRadius=400,\n",
    "                   numActiveColumnsPerInhArea=40,\n",
    "                   globalInhibition=True,\n",
    "                   synPermActiveInc=0.03,\n",
    "                   potentialPct=1.0)\n",
    "\n",
    "with open(\"output.txt\", \"w\") as f:\n",
    "    output = numpy.zeros((400,), dtype=\"int\")\n",
    "    prev_output = None\n",
    "    for pres in xrange(2):\n",
    "        shuffle(days)\n",
    "        print days[0], days[1], days[-2], days[-1]\n",
    "        for d in days:\n",
    "            #prev_output = None  # reset prev_output between days\n",
    "            for i in range(1):  # repeat each day to see if overlap goes up from learning\n",
    "                inp = numpy.concatenate(date_enc.encodeEachField(DateRecord(d)))\n",
    "                sp.compute(inp, learn=True, activeArray=output)\n",
    "                if prev_output:\n",
    "                    nz = set(numpy.concatenate(numpy.nonzero(output)))\n",
    "                    f.write(str(d) + \" overlap = \" + str(len(prev_output & nz)) + \"\\n\")\n",
    "                    prev_output = nz\n",
    "                else:\n",
    "                    prev_output = set(numpy.concatenate(numpy.nonzero(output)))"
   ]
  },
  {
   "cell_type": "markdown",
   "metadata": {},
   "source": [
    "TODO\n",
    "\n",
    "Run 500 presentations with shuffling to refine the training\n",
    "\n",
    "Run 1 presentation without shuffling to capture baseline\n",
    "\n",
    "Run 1 presentation without shuffling to capture test\n",
    "\n",
    "compare"
   ]
  },
  {
   "cell_type": "code",
   "execution_count": 225,
   "metadata": {
    "collapsed": false
   },
   "outputs": [
    {
     "name": "stdout",
     "output_type": "stream",
     "text": [
      "Done\n"
     ]
    }
   ],
   "source": [
    "days = [datetime.date(y, m, d) for y in range(1998, 2013) for m in range(1, 13) for d in range(1, calendar.monthrange(y, m)[1] + 1)]\n",
    "\n",
    "with open(\"output.txt\", \"w\") as f:\n",
    "    output = numpy.zeros((400,), dtype=\"int\")\n",
    "    prev_output = None\n",
    "    for pres in xrange(5000):\n",
    "        shuffle(days)\n",
    "        #print days[0], days[1], days[-2], days[-1]\n",
    "        for d in days:\n",
    "            #prev_output = None  # reset prev_output between days\n",
    "            for i in range(1):  # repeat each day to see if overlap goes up from learning\n",
    "                inp = numpy.concatenate(date_enc.encodeEachField(DateRecord(d)))\n",
    "                sp.compute(inp, learn=True, activeArray=output)\n",
    "                if prev_output:\n",
    "                    nz = set(numpy.concatenate(numpy.nonzero(output)))\n",
    "                    f.write(str(d) + \" overlap = \" + str(len(prev_output & nz)) + \"\\n\")\n",
    "                    prev_output = nz\n",
    "                else:\n",
    "                    prev_output = set(numpy.concatenate(numpy.nonzero(output)))\n",
    "print 'Done'"
   ]
  },
  {
   "cell_type": "code",
   "execution_count": 193,
   "metadata": {
    "collapsed": false,
    "scrolled": true
   },
   "outputs": [
    {
     "name": "stdout",
     "output_type": "stream",
     "text": [
      "2002-01-30 2010-09-12 2011-07-03 2005-10-30\n"
     ]
    }
   ],
   "source": [
    "days = [datetime.date(y, m, d) for y in range(1998, 2013) for m in range(1, 13) for d in range(1, calendar.monthrange(y, m)[1] + 1)]\n",
    "\n",
    "with open(\"output.txt\", \"w\") as f:\n",
    "    prev_output = None\n",
    "    shuffle(days)\n",
    "    print days[0], days[1], days[-2], days[-1]\n",
    "    for d in days:\n",
    "        for i in range(2):\n",
    "            output = numpy.concatenate(date_enc.encodeEachField(DateRecord(d)))\n",
    "            if prev_output:\n",
    "                nz = set(numpy.concatenate(numpy.nonzero(output)))\n",
    "                f.write(str(d) + \" overlap = \" + str(len(prev_output & nz)) + \"\\n\")\n",
    "                prev_output = nz\n",
    "            else:\n",
    "                prev_output = set(numpy.concatenate(numpy.nonzero(output)))\n"
   ]
  },
  {
   "cell_type": "code",
   "execution_count": null,
   "metadata": {
    "collapsed": true
   },
   "outputs": [],
   "source": [
    "days = [datetime.date(y, m, d) for y in range(1998, 2013) for m in range(1, 13) for d in range(1, calendar.monthrange(y, m)[1] + 1)]\n",
    "\n",
    "with open(\"dates.csv\", \"w\") as f:\n",
    "    f.write(\"date\\n\")\n",
    "    f.write(\"type\\b\")\n",
    "    f.write(\"\\n\")  # flags\n",
    "    for d in days:\n",
    "        f.write(str(numpy.concatenate(date_enc.encodeEachField(DateRecord(d)))) + \"\\n\")\n"
   ]
  },
  {
   "cell_type": "code",
   "execution_count": 261,
   "metadata": {
    "collapsed": false
   },
   "outputs": [
    {
     "data": {
      "text/plain": [
       "[<matplotlib.lines.Line2D at 0x7f587ca51bd0>]"
      ]
     },
     "execution_count": 261,
     "metadata": {},
     "output_type": "execute_result"
    },
    {
     "data": {
      "image/png": "[encoded data removed]",
      "text/plain": [
       "<matplotlib.figure.Figure at 0x7f587cb3cb50>"
      ]
     },
     "metadata": {},
     "output_type": "display_data"
    }
   ],
   "source": [
    "%matplotlib inline\n",
    "\n",
    "import matplotlib\n",
    "import numpy as np\n",
    "import matplotlib.pyplot as plt\n",
    "\n",
    "def encode_date(date):\n",
    "    return numpy.concatenate(date_enc.encodeEachField(DateRecord(date)))\n",
    "\n",
    "def encode_bits(array):\n",
    "    return set(numpy.concatenate(numpy.nonzero(array)))\n",
    "\n",
    "def encode_date_bits(date):\n",
    "    return encode_bits(encode_date(date))\n",
    "\n",
    "year = 2015\n",
    "day = datetime.date(year, 5, 31)\n",
    "#jan1 = datetime.date(year, 1, 1)\n",
    "\n",
    "days_in_year = [datetime.date(y, m, d) for y in [year-1, year, year+1] for m in range(1,13) for d in range(1, calendar.monthrange(y, m)[1] + 1)]\n",
    "#days_in_year = [datetime.date(y, m, d) for y in range(year-15,year+16) for m in range(1,13) for d in range(1, calendar.monthrange(y, m)[1] + 1)]\n",
    "day_bits = encode_date_bits(day)\n",
    "overlap = [len(day_bits & encode_date_bits(date)) for date in days_in_year]\n",
    "plt.plot(days_in_year, overlap)"
   ]
  },
  {
   "cell_type": "code",
   "execution_count": 262,
   "metadata": {
    "collapsed": false
   },
   "outputs": [
    {
     "data": {
      "text/plain": [
       "[<matplotlib.lines.Line2D at 0x7f587c980150>]"
      ]
     },
     "execution_count": 262,
     "metadata": {},
     "output_type": "execute_result"
    },
    {
     "data": {
      "image/png": "[encoded data removed]",
      "text/plain": [
       "<matplotlib.figure.Figure at 0x7f587ccfced0>"
      ]
     },
     "metadata": {},
     "output_type": "display_data"
    }
   ],
   "source": [
    "output = numpy.zeros((400,), dtype=\"int\")\n",
    "sp.compute(encode_date(day), learn=False, activeArray=output)\n",
    "sp_day_bits = encode_bits(output)\n",
    "overlap = []\n",
    "for date in days_in_year:\n",
    "    sp.compute(encode_date(date), learn=False, activeArray=output)\n",
    "    overlap.append(len(sp_day_bits & encode_bits(output)))\n",
    "plt.plot(days_in_year, overlap)"
   ]
  },
  {
   "cell_type": "code",
   "execution_count": 229,
   "metadata": {
    "collapsed": false
   },
   "outputs": [
    {
     "name": "stdout",
     "output_type": "stream",
     "text": [
      "40\n"
     ]
    },
    {
     "data": {
      "text/plain": [
       "[<matplotlib.lines.Line2D at 0x7f587e3469d0>]"
      ]
     },
     "execution_count": 229,
     "metadata": {},
     "output_type": "execute_result"
    },
    {
     "data": {
      "image/png": "[encoded data removed]",
      "text/plain": [
       "<matplotlib.figure.Figure at 0x7f587e38c210>"
      ]
     },
     "metadata": {},
     "output_type": "display_data"
    }
   ],
   "source": [
    "# sp2 = SpatialPooler(inputDimensions=(date_enc.width,),\n",
    "#                    columnDimensions=(400,),\n",
    "#                    potentialRadius=400,\n",
    "#                    numActiveColumnsPerInhArea=40,\n",
    "#                    globalInhibition=True,\n",
    "#                    synPermActiveInc=0.03,\n",
    "#                    potentialPct=1.0)\n",
    "\n",
    "output = numpy.zeros((400,), dtype=\"int\")\n",
    "sp2.compute(encode_date(day), learn=True, activeArray=output)\n",
    "sp_day_bits = encode_bits(output)\n",
    "overlap = []\n",
    "for date in days_in_year:\n",
    "    sp2.compute(encode_date(date), learn=False, activeArray=output)\n",
    "    overlap.append(len(sp_day_bits & encode_bits(output)))\n",
    "print max(overlap)\n",
    "plt.plot(days_in_year, overlap)"
   ]
  },
  {
   "cell_type": "code",
   "execution_count": 224,
   "metadata": {
    "collapsed": false
   },
   "outputs": [],
   "source": [
    "import pickle\n",
    "with open(\"sp_date_500.p\", \"w\") as f:\n",
    "    pickle.dump(sp, f)\n"
   ]
  },
  {
   "cell_type": "code",
   "execution_count": 132,
   "metadata": {
    "collapsed": false
   },
   "outputs": [
    {
     "data": {
      "image/png": "[encoded data removed]",
      "text/plain": [
       "<matplotlib.figure.Figure at 0x7f5890baecd0>"
      ]
     },
     "metadata": {},
     "output_type": "display_data"
    }
   ],
   "source": [
    "\n",
    "\n",
    "x = np.linspace(0, 3*np.pi, 500)\n",
    "plt.plot(x, np.sin(x**2))\n",
    "plt.title('A simple chirp')\n",
    "plt.show()"
   ]
  },
  {
   "cell_type": "markdown",
   "metadata": {},
   "source": [
    "#Encode Open, High, Low, Close"
   ]
  },
  {
   "cell_type": "markdown",
   "metadata": {},
   "source": [
    "Encode day-on-day differences in each descriptor:  Open-Open, High-High, Low-Low, Close-Close."
   ]
  },
  {
   "cell_type": "code",
   "execution_count": 33,
   "metadata": {
    "collapsed": false
   },
   "outputs": [
    {
     "name": "stdout",
     "output_type": "stream",
     "text": [
      "[111110000000000000000000000000000000000000000]=-20\n",
      "[011111000000000000000000000000000000000000000]=-19\n",
      "[001111100000000000000000000000000000000000000]=-18\n",
      "[000111110000000000000000000000000000000000000]=-17\n",
      "[000011111000000000000000000000000000000000000]=-16\n",
      "[000001111100000000000000000000000000000000000]=-15\n",
      "[000000111110000000000000000000000000000000000]=-14\n",
      "[000000011111000000000000000000000000000000000]=-13\n",
      "[000000001111100000000000000000000000000000000]=-12\n",
      "[000000000111110000000000000000000000000000000]=-11\n",
      "[000000000011111000000000000000000000000000000]=-10\n",
      "[000000000001111100000000000000000000000000000]=-9\n",
      "[000000000000111110000000000000000000000000000]=-8\n",
      "[000000000000011111000000000000000000000000000]=-7\n",
      "[000000000000001111100000000000000000000000000]=-6\n",
      "[000000000000000111110000000000000000000000000]=-5\n",
      "[000000000000000011111000000000000000000000000]=-4\n",
      "[000000000000000001111100000000000000000000000]=-3\n",
      "[000000000000000000111110000000000000000000000]=-2\n",
      "[000000000000000000011111000000000000000000000]=-1\n",
      "[000000000000000000001111100000000000000000000]=0\n",
      "[000000000000000000000111110000000000000000000]=1\n",
      "[000000000000000000000011111000000000000000000]=2\n",
      "[000000000000000000000001111100000000000000000]=3\n",
      "[000000000000000000000000111110000000000000000]=4\n",
      "[000000000000000000000000011111000000000000000]=5\n",
      "[000000000000000000000000001111100000000000000]=6\n",
      "[000000000000000000000000000111110000000000000]=7\n",
      "[000000000000000000000000000011111000000000000]=8\n",
      "[000000000000000000000000000001111100000000000]=9\n",
      "[000000000000000000000000000000111110000000000]=10\n",
      "[000000000000000000000000000000011111000000000]=11\n",
      "[000000000000000000000000000000001111100000000]=12\n",
      "[000000000000000000000000000000000111110000000]=13\n",
      "[000000000000000000000000000000000011111000000]=14\n",
      "[000000000000000000000000000000000001111100000]=15\n",
      "[000000000000000000000000000000000000111110000]=16\n",
      "[000000000000000000000000000000000000011111000]=17\n",
      "[000000000000000000000000000000000000001111100]=18\n",
      "[000000000000000000000000000000000000000111110]=19\n",
      "[000000000000000000000000000000000000000011111]=20\n"
     ]
    }
   ],
   "source": [
    "import nupic\n",
    "from nupic.encoders import ScalarEncoder\n",
    "enc = ScalarEncoder(n=45, w=5, minval=-20, maxval=20, clipInput=True, forced=True)\n",
    "# range for price descriptors\n",
    "mrange = (-20, 20)  # not interested in specifics of daily price changes up or down greater than $20\n",
    "precision = 1.0  # not interested in price changes of less than $1.00\n",
    "for i in range(-20, 21):\n",
    "    print str(enc.encode(i)).replace(\" \", \"\").replace(\"\\n\", \"\") + \"=\" + str(i)"
   ]
  },
  {
   "cell_type": "markdown",
   "metadata": {},
   "source": [
    "#Encode Volume\n",
    "Encode volume directly as it already represents a rate of change in ownership."
   ]
  },
  {
   "cell_type": "code",
   "execution_count": 39,
   "metadata": {
    "collapsed": false
   },
   "outputs": [
    {
     "name": "stdout",
     "output_type": "stream",
     "text": [
      "min_volume= 0.0\n",
      "max_volume= 7768849900.0\n"
     ]
    }
   ],
   "source": [
    "import csv\n",
    "import glob\n",
    "import os\n",
    "import sys\n",
    "quote_path = \"quotes/quantquote_daily_sp500_83986/daily/\"\n",
    "min_volume = sys.maxsize\n",
    "max_volume = 0\n",
    "for path in glob.iglob(os.path.join(quote_path, \"*\")):\n",
    "    if path.endswith(\".csv\"):\n",
    "        with open(path, 'rb') as csvfile:\n",
    "            quote_reader = csv.reader(csvfile, delimiter=',') \n",
    "            for quote_line in quote_reader:\n",
    "                volume = float(quote_line[-1])\n",
    "                if volume > max_volume:\n",
    "                    max_volume = volume\n",
    "                if volume < min_volume:\n",
    "                    min_volume = volume\n",
    "print \"min_volume=\", str(min_volume)\n",
    "print \"max_volume=\", str(max_volume)\n",
    "\n"
   ]
  },
  {
   "cell_type": "code",
   "execution_count": 37,
   "metadata": {
    "collapsed": false
   },
   "outputs": [
    {
     "data": {
      "text/plain": [
       "datetime.date(2015, 5, 27)"
      ]
     },
     "execution_count": 37,
     "metadata": {},
     "output_type": "execute_result"
    }
   ],
   "source": [
    "datetime.datetime.strptime(\"2015-05-27\", \"%Y-%m-%d\").date()\n"
   ]
  }
 ],
 "metadata": {
  "kernelspec": {
   "display_name": "Python 2",
   "language": "python",
   "name": "python2"
  },
  "language_info": {
   "codemirror_mode": {
    "name": "ipython",
    "version": 2
   },
   "file_extension": ".py",
   "mimetype": "text/x-python",
   "name": "python",
   "nbconvert_exporter": "python",
   "pygments_lexer": "ipython2",
   "version": "2.7.6"
  }
 },
 "nbformat": 4,
 "nbformat_minor": 0
}
